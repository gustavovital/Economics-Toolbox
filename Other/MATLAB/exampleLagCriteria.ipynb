{
 "cells": [
  {
   "cell_type": "markdown",
   "metadata": {},
   "source": [
    "#### Lags choice in a VAR model"
   ]
  },
  {
   "cell_type": "markdown",
   "metadata": {},
   "source": [
    "###### Loading data base and estimating the best lag criteria by a VAR model"
   ]
  },
  {
   "cell_type": "code",
   "execution_count": 1,
   "metadata": {},
   "outputs": [
    {
     "name": "stdout",
     "output_type": "stream",
     "text": [
      "\n"
     ]
    }
   ],
   "source": [
    "load Data_USEconModel\n",
    "rcpi = price2ret(DataTable.CPIAUCSL);\n",
    "unrate = DataTable.UNRATE(2:end);"
   ]
  },
  {
   "cell_type": "markdown",
   "metadata": {},
   "source": [
    "###### Using the function and finding the results"
   ]
  },
  {
   "cell_type": "code",
   "execution_count": 3,
   "metadata": {},
   "outputs": [
    {
     "name": "stdout",
     "output_type": "stream",
     "text": [
      "\n",
      "ans =\n",
      "\n",
      "  6x3 table\n",
      "\n",
      "    Lags         AIC              BIC     \n",
      "    ____    _____________    _____________\n",
      "\n",
      "    \"1\"     \"-1453.85\"       \"-1432.86\"   \n",
      "    \"2\"     \"-1558.31\"       \"-1523.38\"   \n",
      "    \"3\"     \"-1581.98\"       \"-1533.13***\"\n",
      "    \"4\"     \"-1586.72\"       \"-1524\"      \n",
      "    \"5\"     \"-1587.51***\"    \"-1510.93\"   \n",
      "    \"6\"     \"-1580.4\"        \"-1490.02\"   \n",
      "\n",
      "\n"
     ]
    }
   ],
   "source": [
    "LagCriteria([rcpi unrate], 6)"
   ]
  }
 ],
 "metadata": {
  "kernelspec": {
   "display_name": "Matlab",
   "language": "matlab",
   "name": "matlab"
  },
  "language_info": {
   "codemirror_mode": "octave",
   "file_extension": ".m",
   "help_links": [
    {
     "text": "MetaKernel Magics",
     "url": "https://metakernel.readthedocs.io/en/latest/source/README.html"
    }
   ],
   "mimetype": "text/x-octave",
   "name": "matlab",
   "version": "0.16.9"
  }
 },
 "nbformat": 4,
 "nbformat_minor": 4
}
