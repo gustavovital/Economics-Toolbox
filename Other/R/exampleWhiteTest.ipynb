{
 "cells": [
  {
   "cell_type": "markdown",
   "metadata": {},
   "source": [
    "### White Test for Heteroskedasticity"
   ]
  },
  {
   "cell_type": "markdown",
   "metadata": {},
   "source": [
    "##### Simulating a regression and data base:"
   ]
  },
  {
   "cell_type": "code",
   "execution_count": 5,
   "metadata": {},
   "outputs": [
    {
     "data": {
      "text/plain": [
       "\n",
       "Call:\n",
       "lm(formula = wt ~ mpg + disp + gear, data = mtcars)\n",
       "\n",
       "Residuals:\n",
       "     Min       1Q   Median       3Q      Max \n",
       "-0.62684 -0.29368 -0.03497  0.33592  0.87374 \n",
       "\n",
       "Coefficients:\n",
       "             Estimate Std. Error t value Pr(>|t|)    \n",
       "(Intercept)  4.278201   0.857641   4.988 2.86e-05 ***\n",
       "mpg         -0.065639   0.022674  -2.895  0.00727 ** \n",
       "disp         0.003758   0.001163   3.231  0.00315 ** \n",
       "gear        -0.165253   0.118224  -1.398  0.17315    \n",
       "---\n",
       "Signif. codes:  0 '***' 0.001 '**' 0.01 '*' 0.05 '.' 0.1 ' ' 1\n",
       "\n",
       "Residual standard error: 0.4037 on 28 degrees of freedom\n",
       "Multiple R-squared:  0.8462,\tAdjusted R-squared:  0.8298 \n",
       "F-statistic: 51.36 on 3 and 28 DF,  p-value: 1.657e-11\n"
      ]
     },
     "metadata": {},
     "output_type": "display_data"
    }
   ],
   "source": [
    "data(\"mtcars\")\n",
    "\n",
    "model  <-  lm(wt ~ mpg + disp + gear, data = mtcars)\n",
    "summary(model)"
   ]
  },
  {
   "cell_type": "markdown",
   "metadata": {},
   "source": [
    "##### White Test:"
   ]
  },
  {
   "cell_type": "code",
   "execution_count": 16,
   "metadata": {},
   "outputs": [
    {
     "name": "stdout",
     "output_type": "stream",
     "text": [
      "========================================\n",
      "Teste de White Para Heterocedasticidade\n",
      "\n",
      "H0 : HOMOCEDASTICIDADE\n",
      "H1 : AUSENCIA DE HOMOCEDASTICIDADE\n",
      "\n",
      "Nao rejeitamos H0 a 5 %\n",
      "Estatistica de Teste: 12.4092390224927\n",
      "Regiao Critica: 16.9189776046205\n",
      "P-Valor = 0.191208925610713\n",
      "========================================\n"
     ]
    }
   ],
   "source": [
    "source(\"whiteTest.R\")\n",
    "whiteTest(model)"
   ]
  }
 ],
 "metadata": {
  "kernelspec": {
   "display_name": "R",
   "language": "R",
   "name": "ir"
  },
  "language_info": {
   "codemirror_mode": "r",
   "file_extension": ".r",
   "mimetype": "text/x-r-source",
   "name": "R",
   "pygments_lexer": "r",
   "version": "4.0.0"
  }
 },
 "nbformat": 4,
 "nbformat_minor": 4
}
